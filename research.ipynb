{
 "cells": [
  {
   "cell_type": "code",
   "execution_count": 4,
   "id": "e8ea6fc5",
   "metadata": {},
   "outputs": [],
   "source": [
    "import os\n",
    "os.chdir(os.path.dirname(os.path.abspath(\"__file__\")))\n"
   ]
  },
  {
   "cell_type": "code",
   "execution_count": 2,
   "id": "79e482b7",
   "metadata": {},
   "outputs": [
    {
     "name": "stdout",
     "output_type": "stream",
     "text": [
      "c:\\Git_Tutorials\\IntentClassification\\.venv\\Scripts\\python.exe\n",
      "['C:\\\\Users\\\\bsaar\\\\AppData\\\\Local\\\\Programs\\\\Python\\\\Python312\\\\python312.zip', 'C:\\\\Users\\\\bsaar\\\\AppData\\\\Local\\\\Programs\\\\Python\\\\Python312\\\\DLLs', 'C:\\\\Users\\\\bsaar\\\\AppData\\\\Local\\\\Programs\\\\Python\\\\Python312\\\\Lib', 'C:\\\\Users\\\\bsaar\\\\AppData\\\\Local\\\\Programs\\\\Python\\\\Python312', 'c:\\\\Git_Tutorials\\\\IntentClassification\\\\.venv', '', 'c:\\\\Git_Tutorials\\\\IntentClassification\\\\.venv\\\\Lib\\\\site-packages', 'c:\\\\Git_Tutorials\\\\IntentClassification\\\\.venv\\\\Lib\\\\site-packages\\\\win32', 'c:\\\\Git_Tutorials\\\\IntentClassification\\\\.venv\\\\Lib\\\\site-packages\\\\win32\\\\lib', 'c:\\\\Git_Tutorials\\\\IntentClassification\\\\.venv\\\\Lib\\\\site-packages\\\\Pythonwin']\n"
     ]
    }
   ],
   "source": [
    "import sys\n",
    "print(sys.executable)\n",
    "print(sys.path)"
   ]
  },
  {
   "cell_type": "code",
   "execution_count": 1,
   "id": "f3724e19",
   "metadata": {},
   "outputs": [],
   "source": [
    "import pandas as pd\n",
    "import numpy as np\n",
    "import pymongo\n",
    "from pymongo.mongo_client import MongoClient\n",
    "from pymongo.server_api import ServerApi\n",
    "from dotenv import load_dotenv\n",
    "from pathlib import Path"
   ]
  },
  {
   "cell_type": "code",
   "execution_count": 4,
   "id": "7bccd2ff",
   "metadata": {},
   "outputs": [],
   "source": [
    "# code to convert dataframe records to json\n",
    "def csv_to_json_converter(csv_file_path):\n",
    "    try:\n",
    "        local_df = pd.read_csv(csv_file_path)\n",
    "        local_df.reset_index(drop=True, inplace=True)\n",
    "        records = local_df.to_dict(orient='records')\n",
    "        return records\n",
    "    except Exception as e:\n",
    "        raise e"
   ]
  },
  {
   "cell_type": "code",
   "execution_count": 5,
   "id": "e350a64b",
   "metadata": {},
   "outputs": [],
   "source": [
    "#code to insert the jsons into mongodb\n",
    "\n",
    "def insert_data_mongodb(json_data, database, collection):\n",
    "    try:\n",
    "        #connect to MongoDB\n",
    "        load_dotenv()\n",
    "        client = MongoClient(os.getenv('MONGO_DB_URL'), server_api=ServerApi('1'))\n",
    "        client.admin.command('ping')\n",
    "        print(\"Connected to MongoDB\")\n",
    "        db = client[database]\n",
    "        colln = db[collection]\n",
    "        #insert the json data\n",
    "        colln.insert_many(json_data)\n",
    "        return(f\"Inserted {len(json_data)} records into {collection} collection in {database} database.\")\n",
    "    except Exception as e:\n",
    "        raise e"
   ]
  },
  {
   "cell_type": "code",
   "execution_count": null,
   "id": "e49b3cdc",
   "metadata": {},
   "outputs": [
    {
     "name": "stdout",
     "output_type": "stream",
     "text": [
      "Inserted 7925 records into intents collection in intent_classification database.\n"
     ]
    }
   ],
   "source": [
    "# import src.IntentClassification.constants as const\n",
    "# csv_file_path = const.LOCAL_DATASET_PATH\n",
    "# database = \"intent_classification\"\n",
    "# collection = \"intents\"\n",
    "\n",
    "# json_data = csv_to_json_converter(csv_file_path)\n",
    "# result = insert_data_mongodb(json_data, database, collection)\n",
    "# print(result)"
   ]
  },
  {
   "cell_type": "code",
   "execution_count": 5,
   "id": "3fe3c95c",
   "metadata": {},
   "outputs": [],
   "source": [
    "def export_collection_as_csv(csv_file_path, database, collection):\n",
    "    try:\n",
    "        load_dotenv()\n",
    "        client = MongoClient(os.getenv('MONGO_DB_URL'), server_api=ServerApi('1'))\n",
    "        client.admin.command('ping')\n",
    "        print(\"Connected to MongoDB\")\n",
    "        db = client[database]\n",
    "        colln=db[collection]\n",
    "        \n",
    "        df = pd.DataFrame(list(colln.find()))\n",
    "        print(\"export successful\")\n",
    "        if \"_id\" in df.columns:\n",
    "            df.drop(columns=['_id'], inplace =True, axis=1)\n",
    "        if \"Unnamed: 0\" in df.columns:\n",
    "            df.drop(columns=['Unnamed: 0'], inplace =True, axis=1)\n",
    "        print(\"csv_file saved succesfully\")\n",
    "        df.to_csv(csv_file_path, index=False, header = True)\n",
    "\n",
    "    except Exception as e:\n",
    "        print(e)\n",
    "        raise e"
   ]
  },
  {
   "cell_type": "code",
   "execution_count": 6,
   "id": "1ebda304",
   "metadata": {},
   "outputs": [
    {
     "name": "stdout",
     "output_type": "stream",
     "text": [
      "Connected to MongoDB\n",
      "export successful\n",
      "csv_file saved succesfully\n"
     ]
    }
   ],
   "source": [
    "from  src.IntentClassification import constants as const\n",
    "csv_file_path = const.LOCAL_DATASET_PATH\n",
    "database = const.MONGO_DB_DATABASE\n",
    "collection = const.MONGO_DB_COLLECTION\n",
    "export_collection_as_csv(csv_file_path, database, collection)\n",
    "\n"
   ]
  },
  {
   "cell_type": "code",
   "execution_count": null,
   "id": "b1afdfe0",
   "metadata": {},
   "outputs": [
    {
     "name": "stdout",
     "output_type": "stream",
     "text": [
      "intent_classification\n"
     ]
    }
   ],
   "source": [
    "db = \n",
    "print(db)"
   ]
  }
 ],
 "metadata": {
  "kernelspec": {
   "display_name": ".venv",
   "language": "python",
   "name": "python3"
  },
  "language_info": {
   "codemirror_mode": {
    "name": "ipython",
    "version": 3
   },
   "file_extension": ".py",
   "mimetype": "text/x-python",
   "name": "python",
   "nbconvert_exporter": "python",
   "pygments_lexer": "ipython3",
   "version": "3.12.10"
  }
 },
 "nbformat": 4,
 "nbformat_minor": 5
}
