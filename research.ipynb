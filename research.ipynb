{
 "cells": [
  {
   "cell_type": "code",
   "execution_count": 1,
   "id": "e8ea6fc5",
   "metadata": {},
   "outputs": [],
   "source": [
    "import os\n",
    "os.chdir(os.path.dirname(os.path.abspath(\"__file__\")))\n"
   ]
  },
  {
   "cell_type": "code",
   "execution_count": 2,
   "id": "79e482b7",
   "metadata": {},
   "outputs": [
    {
     "name": "stdout",
     "output_type": "stream",
     "text": [
      "c:\\Git_Tutorials\\IntentClassification\\.venv\\Scripts\\python.exe\n",
      "['C:\\\\Users\\\\bsaar\\\\AppData\\\\Local\\\\Programs\\\\Python\\\\Python312\\\\python312.zip', 'C:\\\\Users\\\\bsaar\\\\AppData\\\\Local\\\\Programs\\\\Python\\\\Python312\\\\DLLs', 'C:\\\\Users\\\\bsaar\\\\AppData\\\\Local\\\\Programs\\\\Python\\\\Python312\\\\Lib', 'C:\\\\Users\\\\bsaar\\\\AppData\\\\Local\\\\Programs\\\\Python\\\\Python312', 'c:\\\\Git_Tutorials\\\\IntentClassification\\\\.venv', '', 'c:\\\\Git_Tutorials\\\\IntentClassification\\\\.venv\\\\Lib\\\\site-packages', 'c:\\\\Git_Tutorials\\\\IntentClassification\\\\.venv\\\\Lib\\\\site-packages\\\\win32', 'c:\\\\Git_Tutorials\\\\IntentClassification\\\\.venv\\\\Lib\\\\site-packages\\\\win32\\\\lib', 'c:\\\\Git_Tutorials\\\\IntentClassification\\\\.venv\\\\Lib\\\\site-packages\\\\Pythonwin']\n"
     ]
    }
   ],
   "source": [
    "import sys\n",
    "print(sys.executable)\n",
    "print(sys.path)"
   ]
  },
  {
   "cell_type": "code",
   "execution_count": 3,
   "id": "f3724e19",
   "metadata": {},
   "outputs": [],
   "source": [
    "import pandas as pd\n",
    "import numpy as np\n",
    "import pymongo\n",
    "from pymongo.mongo_client import MongoClient\n",
    "from pymongo.server_api import ServerApi\n",
    "from dotenv import load_dotenv\n",
    "from pathlib import Path\n",
    "import requests\n",
    "from zipfile import ZipFile\n"
   ]
  },
  {
   "cell_type": "code",
   "execution_count": 4,
   "id": "7bccd2ff",
   "metadata": {},
   "outputs": [],
   "source": [
    "# code to convert dataframe records to json\n",
    "def csv_to_json_converter(csv_file_path):\n",
    "    try:\n",
    "        local_df = pd.read_csv(csv_file_path)\n",
    "        local_df.reset_index(drop=True, inplace=True)\n",
    "        records = local_df.to_dict(orient='records')\n",
    "        return records\n",
    "    except Exception as e:\n",
    "        raise e"
   ]
  },
  {
   "cell_type": "code",
   "execution_count": 5,
   "id": "e350a64b",
   "metadata": {},
   "outputs": [],
   "source": [
    "#code to insert the jsons into mongodb\n",
    "\n",
    "def insert_data_mongodb(json_data, database, collection):\n",
    "    try:\n",
    "        #connect to MongoDB\n",
    "        load_dotenv()\n",
    "        client = MongoClient(os.getenv('MONGO_DB_URL'), server_api=ServerApi('1'))\n",
    "        client.admin.command('ping')\n",
    "        print(\"Connected to MongoDB\")\n",
    "        db = client[database]\n",
    "        colln = db[collection]\n",
    "        #insert the json data\n",
    "        colln.insert_many(json_data)\n",
    "        return(f\"Inserted {len(json_data)} records into {collection} collection in {database} database.\")\n",
    "    except Exception as e:\n",
    "        raise e"
   ]
  },
  {
   "cell_type": "code",
   "execution_count": 6,
   "id": "3fe3c95c",
   "metadata": {},
   "outputs": [],
   "source": [
    "def export_collection_as_csv(csv_file_path, database, collection):\n",
    "    try:\n",
    "        load_dotenv()\n",
    "        client = MongoClient(os.getenv('MONGO_DB_URL'), server_api=ServerApi('1'))\n",
    "        client.admin.command('ping')\n",
    "        print(\"Connected to MongoDB\")\n",
    "        db = client[database]\n",
    "        colln=db[collection]\n",
    "        \n",
    "        df = pd.DataFrame(list(colln.find()))\n",
    "        print(\"export successful\")\n",
    "        if \"_id\" in df.columns:\n",
    "            df.drop(columns=['_id'], inplace =True, axis=1)\n",
    "        if \"Unnamed: 0\" in df.columns:\n",
    "            df.drop(columns=['Unnamed: 0'], inplace =True, axis=1)\n",
    "        print(\"csv_file saved succesfully\")\n",
    "        df.to_csv(csv_file_path, index=False, header = True)\n",
    "\n",
    "    except Exception as e:\n",
    "        print(e)\n",
    "        raise e"
   ]
  },
  {
   "cell_type": "code",
   "execution_count": 7,
   "id": "1ebda304",
   "metadata": {},
   "outputs": [
    {
     "name": "stdout",
     "output_type": "stream",
     "text": [
      "perform partial redemption using service web service\n"
     ]
    }
   ],
   "source": [
    "from src.IntentClassification.utils.common import read_yaml\n",
    "from src.IntentClassification import constants as const\n",
    "import re\n",
    "\n",
    "sentence = \"perform partial redemption using service dptdrecordarredemption\"\n",
    "\n",
    "sentence = re.sub(r'\\bdp\\w+','web service',sentence)\n",
    "print(sentence)\n",
    "\n"
   ]
  },
  {
   "cell_type": "code",
   "execution_count": 8,
   "id": "bf104132",
   "metadata": {},
   "outputs": [],
   "source": [
    "def download_glove_embeddings(url, glove_folder, glove_zip_file):\n",
    "    if not os.path.exists(glove_folder):\n",
    "        os.makedirs(glove_folder, exist_ok=True)\n",
    "        response = requests.get(url, stream=True)\n",
    "        with open(glove_zip_file, 'wb') as file:\n",
    "            for chunk in response.iter_content(chunk_size=1024):\n",
    "                if chunk:\n",
    "                    file.write(chunk)\n",
    "        print(f\"Downloaded glove embeddings from {url}\")\n",
    "        with ZipFile(glove_zip_file, 'r') as zip:\n",
    "            zip.extractall(glove_folder)\n",
    "        print(f\"Unzipped glove embeddings to {glove_folder}\")\n"
   ]
  },
  {
   "cell_type": "code",
   "execution_count": 9,
   "id": "621d98e6",
   "metadata": {},
   "outputs": [],
   "source": [
    "url = \"http://nlp.stanford.edu/data/glove.6B.zip\"\n",
    "glove_folder = \"artifacts/glove\"\n",
    "glove_zip_file = \"artifacts/glove/glove.6B.zip\"\n",
    "\n",
    "download_glove_embeddings(url, glove_folder, glove_zip_file)"
   ]
  },
  {
   "cell_type": "code",
   "execution_count": 10,
   "id": "7c13407a",
   "metadata": {},
   "outputs": [],
   "source": [
    "def load_glove_embeddings(file_path=\"glove_data/glove.6B.100d.txt\"):\n",
    "    embeddings = {}\n",
    "    with open(file_path, 'r', encoding='utf-8') as f:\n",
    "        for line in f:\n",
    "            parts = line.strip().split()\n",
    "            word = parts[0]\n",
    "            vector = np.array(parts[1:], dtype=np.float32)\n",
    "            embeddings[word] = vector\n",
    "    print(f\"Loaded {len(embeddings)} word vectors.\")\n",
    "    return embeddings\n"
   ]
  },
  {
   "cell_type": "code",
   "execution_count": 11,
   "id": "5842d2ce",
   "metadata": {},
   "outputs": [
    {
     "name": "stdout",
     "output_type": "stream",
     "text": [
      "Loaded 400000 word vectors.\n"
     ]
    }
   ],
   "source": [
    "glove_path = \"artifacts/glove/glove.6B.100d.txt\"\n",
    "\n",
    "glove_embeddings = load_glove_embeddings(glove_path)"
   ]
  },
  {
   "cell_type": "code",
   "execution_count": 12,
   "id": "89033955",
   "metadata": {},
   "outputs": [],
   "source": [
    "from sklearn.feature_extraction.text import TfidfVectorizer\n",
    "\n",
    "tfidf_vectorizer = TfidfVectorizer()\n",
    "df = pd.read_csv('artifacts/data_preprocessing/preprocessed.csv')\n",
    "corpus = df['preprocessed'].astype(str).tolist()\n",
    "\n",
    "tfidf_matrix = tfidf_vectorizer.fit_transform(corpus)\n",
    "idf_scores = dict(zip(tfidf_vectorizer.get_feature_names_out(),tfidf_vectorizer.idf_))\n"
   ]
  },
  {
   "cell_type": "code",
   "execution_count": 13,
   "id": "6543c5de",
   "metadata": {},
   "outputs": [],
   "source": [
    "def sentence_to_weighted_glove(sentence, glove_embeddings, idf_scores):\n",
    "    words = sentence.split()\n",
    "    vector = np.zeros(100)  # Assuming 100-dimensional GloVe embeddings\n",
    "    total_weight = 0\n",
    "    to_be_vectors = []\n",
    "\n",
    "    for word in words:\n",
    "        print(word)\n",
    "        if word in glove_embeddings and word in idf_scores:\n",
    "            weight = (idf_scores[word])\n",
    "            vector += glove_embeddings[word]*weight\n",
    "            total_weight += weight\n",
    "        else:\n",
    "            to_be_vectors.append(word)\n",
    "            print(len(to_be_vectors))\n",
    "            print(to_be_vectors)\n",
    "    return vector / total_weight if total_weight != 0 else vector\n"
   ]
  },
  {
   "cell_type": "code",
   "execution_count": 14,
   "id": "a09f2372",
   "metadata": {},
   "outputs": [],
   "source": [
    "from gensim.models import Word2Vec\n",
    "from gensim.utils import simple_preprocess\n"
   ]
  },
  {
   "cell_type": "code",
   "execution_count": 15,
   "id": "d57fe74d",
   "metadata": {},
   "outputs": [],
   "source": [
    "corpus = ['create a checking_account', 'place account_freeze restriction']"
   ]
  },
  {
   "cell_type": "code",
   "execution_count": 16,
   "id": "e406cd03",
   "metadata": {},
   "outputs": [],
   "source": [
    "from nltk.tokenize import word_tokenize\n",
    "\n",
    "def tokenize_corpus(corpus):\n",
    "    return [word_tokenize(text) for text in corpus]"
   ]
  },
  {
   "cell_type": "code",
   "execution_count": 17,
   "id": "efdeadc2",
   "metadata": {},
   "outputs": [],
   "source": [
    "word_2_vec_path = \"artifacts/word2vec.model\"\n",
    "\n",
    "def save_word2vec_model(corpus, model_path):\n",
    "    model = Word2Vec(sentences=tokenize_corpus(corpus), vector_size=100, window=5, min_count=1, workers=4)\n",
    "    model.save(model_path)\n",
    "\n",
    "def load_word2vec_model(model_path):\n",
    "    return Word2Vec.load(model_path)"
   ]
  },
  {
   "cell_type": "code",
   "execution_count": 18,
   "id": "d640d470",
   "metadata": {},
   "outputs": [],
   "source": [
    "save_word2vec_model(corpus, word_2_vec_path)"
   ]
  },
  {
   "cell_type": "code",
   "execution_count": 19,
   "id": "f5c46270",
   "metadata": {},
   "outputs": [],
   "source": [
    "def sentence_to_weighted_vectors(sentence, glove_embeddings, idf_scores, model_path):\n",
    "    words = word_tokenize(sentence)\n",
    "    vector = np.zeros(100)  # Assuming 100-dimensional GloVe embeddings\n",
    "    total_weight = 0\n",
    "\n",
    "    word_2_vec = load_word2vec_model(model_path)\n",
    "\n",
    "    for word in words:\n",
    "        \n",
    "        if word in glove_embeddings and word in idf_scores:\n",
    "            weight = (idf_scores[word])\n",
    "            vector += glove_embeddings[word]*weight\n",
    "            total_weight += weight\n",
    "        else:\n",
    "            print(word)\n",
    "            vector += word_2_vec.wv[word]\n",
    "    return vector / total_weight if total_weight != 0 else vector"
   ]
  },
  {
   "cell_type": "code",
   "execution_count": 20,
   "id": "4418f6f2",
   "metadata": {},
   "outputs": [
    {
     "name": "stdout",
     "output_type": "stream",
     "text": [
      "a\n",
      "checking_account\n",
      "account_freeze\n"
     ]
    }
   ],
   "source": [
    "vec = {}\n",
    "for sentence in corpus:\n",
    "    vector = sentence_to_weighted_vectors(sentence, glove_embeddings, idf_scores, word_2_vec_path)\n",
    "    vec[sentence] = vector"
   ]
  },
  {
   "cell_type": "code",
   "execution_count": 61,
   "id": "6d86289f",
   "metadata": {},
   "outputs": [],
   "source": [
    "train = pd.read_csv('artifacts/data_transformation/train.csv')\n"
   ]
  },
  {
   "cell_type": "code",
   "execution_count": null,
   "id": "e4c7ffce",
   "metadata": {},
   "outputs": [],
   "source": [
    "train['vec'] = (train['vectors'].strip('[]')).replace(\"\\n\",\"\")"
   ]
  },
  {
   "cell_type": "code",
   "execution_count": 65,
   "id": "c9bad5ac",
   "metadata": {},
   "outputs": [
    {
     "data": {
      "text/plain": [
       "'-2.42688832e-01  1.22891995e-01  2.55557793e-01  4.63965025e-02 -6.75479614e-02  6.56613478e-02 -1.46482367e-01  2.08959666e-01  1.02084353e-01  3.38134380e-01  3.31140750e-01 -2.66453737e-02  3.41670768e-01 -2.15196002e-01  3.68941003e-02  4.98872425e-02  3.97148334e-01  2.18025527e-02 -8.70026599e-02 -1.86981713e-01  3.84414093e-02 -7.77777706e-02  3.24947738e-02  1.07738286e-01  5.97823742e-02 -5.63910908e-01 -9.65115131e-03 -2.59708427e-01 -1.28052417e-01 -1.09125040e-01  1.23917143e-01  1.82832194e-01 -1.21953672e-01 -2.75788116e-02  2.54936654e-01  1.11429589e-01  8.03972836e-02 -2.28821319e-02 -3.43967846e-01 -1.73367095e-01  1.36651585e-02 -2.78128162e-01  5.83898087e-02 -1.04438388e-01  4.14190777e-02  1.75811427e-02 -3.05580303e-01 -1.03667764e-01 -8.95829618e-02 -1.99510277e-01 -2.32906031e-02  1.33581449e-01 -7.84943385e-02  6.09820835e-01 -1.03401952e-01 -1.17174166e+00  1.04559154e-01 -4.00787765e-01  1.06850625e+00  1.82473974e-01 -2.46989819e-01  4.94643192e-01  8.49232127e-02  7.79570827e-02  7.79411352e-01 -1.24056985e-01  9.96657413e-02  1.92602213e-01  1.45189375e-01 -3.57515313e-01  1.21012419e-01  5.33624330e-02  1.84973180e-01 -3.38053856e-01  1.01059049e-01 -7.98592755e-02  1.18801935e-01 -1.68826095e-01 -5.16437043e-01 -1.45411824e-01  2.79549436e-01 -2.23673104e-01 -3.36785111e-01  8.46030005e-02 -4.47557673e-01  1.01296468e-01  1.60284192e-01 -3.59249849e-01  5.42679058e-02 -5.85206922e-02 -2.07963042e-01  1.23758771e-01  4.58404143e-02 -2.63366209e-03  4.35109865e-04 -7.06060782e-02 -1.29855652e-01 -3.77305815e-01  5.13842401e-01  1.50405110e-01'"
      ]
     },
     "execution_count": 65,
     "metadata": {},
     "output_type": "execute_result"
    }
   ],
   "source": [
    "train['vec'][0]"
   ]
  },
  {
   "cell_type": "code",
   "execution_count": 57,
   "id": "2690eaed",
   "metadata": {},
   "outputs": [],
   "source": [
    "import ast"
   ]
  },
  {
   "cell_type": "code",
   "execution_count": 70,
   "id": "22821f81",
   "metadata": {},
   "outputs": [],
   "source": [
    "from src.IntentClassification import logger"
   ]
  },
  {
   "cell_type": "code",
   "execution_count": null,
   "id": "0685e644",
   "metadata": {},
   "outputs": [],
   "source": [
    "def convert_to_ndarray( X):\n",
    "    try:\n",
    "        logger.info(\"Inside convert_to_ndarray\")\n",
    "        X['vectors'] = X['vectors'].apply(lambda x: x.strip('[]').replace(\"\\n\",\"\"))\n",
    "        X['vectors'] = X['vectors'].apply(lambda x: np.fromstring(x, sep= ' '))\n",
    "        print(type(X['vectors'].iloc[0]))\n",
    "        \n",
    "        return X['vectors']\n",
    "    except Exception as e:\n",
    "        logger.error(f\"error occured: {e}\")\n",
    "        raise e"
   ]
  },
  {
   "cell_type": "code",
   "execution_count": 74,
   "id": "c4d77db1",
   "metadata": {},
   "outputs": [
    {
     "name": "stderr",
     "output_type": "stream",
     "text": [
      "[ 2025-09-01 20:05:35,445 ] [ INFO ][ 3 ] [ src.IntentClassification ] - Inside convert_to_ndarray\n"
     ]
    },
    {
     "name": "stdout",
     "output_type": "stream",
     "text": [
      "<class 'numpy.ndarray'>\n"
     ]
    }
   ],
   "source": [
    "X = convert_to_ndarray(train)"
   ]
  },
  {
   "cell_type": "code",
   "execution_count": 77,
   "id": "42149a03",
   "metadata": {},
   "outputs": [
    {
     "name": "stdout",
     "output_type": "stream",
     "text": [
      "[array([-2.42688832e-01,  1.22891995e-01,  2.55557793e-01,  4.63965025e-02,\n",
      "        -6.75479614e-02,  6.56613478e-02, -1.46482367e-01,  2.08959666e-01,\n",
      "         1.02084353e-01,  3.38134380e-01,  3.31140750e-01, -2.66453737e-02,\n",
      "         3.41670768e-01, -2.15196002e-01,  3.68941003e-02,  4.98872425e-02,\n",
      "         3.97148334e-01,  2.18025527e-02, -8.70026599e-02, -1.86981713e-01,\n",
      "         3.84414093e-02, -7.77777706e-02,  3.24947738e-02,  1.07738286e-01,\n",
      "         5.97823742e-02, -5.63910908e-01, -9.65115131e-03, -2.59708427e-01,\n",
      "        -1.28052417e-01, -1.09125040e-01,  1.23917143e-01,  1.82832194e-01,\n",
      "        -1.21953672e-01, -2.75788116e-02,  2.54936654e-01,  1.11429589e-01,\n",
      "         8.03972836e-02, -2.28821319e-02, -3.43967846e-01, -1.73367095e-01,\n",
      "         1.36651585e-02, -2.78128162e-01,  5.83898087e-02, -1.04438388e-01,\n",
      "         4.14190777e-02,  1.75811427e-02, -3.05580303e-01, -1.03667764e-01,\n",
      "        -8.95829618e-02, -1.99510277e-01, -2.32906031e-02,  1.33581449e-01,\n",
      "        -7.84943385e-02,  6.09820835e-01, -1.03401952e-01, -1.17174166e+00,\n",
      "         1.04559154e-01, -4.00787765e-01,  1.06850625e+00,  1.82473974e-01,\n",
      "        -2.46989819e-01,  4.94643192e-01,  8.49232127e-02,  7.79570827e-02,\n",
      "         7.79411352e-01, -1.24056985e-01,  9.96657413e-02,  1.92602213e-01,\n",
      "         1.45189375e-01, -3.57515313e-01,  1.21012419e-01,  5.33624330e-02,\n",
      "         1.84973180e-01, -3.38053856e-01,  1.01059049e-01, -7.98592755e-02,\n",
      "         1.18801935e-01, -1.68826095e-01, -5.16437043e-01, -1.45411824e-01,\n",
      "         2.79549436e-01, -2.23673104e-01, -3.36785111e-01,  8.46030005e-02,\n",
      "        -4.47557673e-01,  1.01296468e-01,  1.60284192e-01, -3.59249849e-01,\n",
      "         5.42679058e-02, -5.85206922e-02, -2.07963042e-01,  1.23758771e-01,\n",
      "         4.58404143e-02, -2.63366209e-03,  4.35109865e-04, -7.06060782e-02,\n",
      "        -1.29855652e-01, -3.77305815e-01,  5.13842401e-01,  1.50405110e-01])\n",
      " array([-0.32452002,  0.19129492,  0.26385873, -0.00686383, -0.05452865,\n",
      "         0.12221937, -0.18031361,  0.12461074,  0.02777715,  0.05841137,\n",
      "         0.38113071, -0.09275431,  0.0383037 , -0.08042926, -0.0068136 ,\n",
      "        -0.35776512,  0.34479849,  0.06038797, -0.30683511,  0.21963649,\n",
      "         0.32174863, -0.20312624, -0.0373582 ,  0.0455894 , -0.06001909,\n",
      "        -0.18248611, -0.12725155, -0.30036155,  0.17211119, -0.22581277,\n",
      "         0.02013249,  0.45711818,  0.03518778, -0.10116572,  0.24105983,\n",
      "        -0.1082883 ,  0.17195939,  0.02207713, -0.03770962, -0.18032842,\n",
      "        -0.10344318, -0.1105582 ,  0.08004224,  0.04709203,  0.16911464,\n",
      "        -0.06689284, -0.07781763, -0.22080183, -0.39354193, -0.82385965,\n",
      "         0.22843078,  0.09920154,  0.13678269,  0.55329837, -0.12962138,\n",
      "        -1.46659788,  0.26675283, -0.42951977,  1.54336492,  0.32956284,\n",
      "        -0.01533663,  0.32978569, -0.29849889, -0.10511724,  0.53926874,\n",
      "        -0.26424223,  0.01447265,  0.1177176 ,  0.21465601,  0.18173076,\n",
      "         0.30255174, -0.1652298 , -0.08373874, -0.15002478,  0.28707241,\n",
      "        -0.21124721, -0.14732748,  0.12210787, -0.6178219 , -0.04545813,\n",
      "         0.5091329 , -0.18268485, -0.04555951, -0.0336415 , -0.85630433,\n",
      "        -0.0455984 ,  0.44039913, -0.19839351,  0.07543386, -0.13373653,\n",
      "        -0.03362297, -0.22750663,  0.11972207, -0.10157489, -0.16279118,\n",
      "         0.17515298,  0.15417009, -0.14511871,  0.25213463, -0.01952312])\n",
      " array([-0.28476179, -0.14337758,  0.12748906, -0.00215292,  0.18925065,\n",
      "        -0.28514161, -0.31365605,  0.06800295,  0.37299686,  0.20748622,\n",
      "         0.33069766, -0.01381769,  0.01362228, -0.32616367,  0.14534976,\n",
      "        -0.27776454,  0.40295484,  0.27684923, -0.14997785,  0.13096374,\n",
      "        -0.17715033, -0.13288811,  0.25870938,  0.24005233, -0.11699109,\n",
      "        -0.30340657,  0.01886205, -0.10317878, -0.49183737, -0.11624481,\n",
      "         0.00838209,  0.48204941, -0.23283514, -0.06620244,  0.353855  ,\n",
      "         0.16488522, -0.13464573, -0.15151803,  0.16842977, -0.45098383,\n",
      "         0.10480221, -0.29188346, -0.24556815,  0.0690368 ,  0.05769757,\n",
      "         0.24882596, -0.17325636,  0.00424145,  0.1762126 ,  0.05308226,\n",
      "         0.0747968 ,  0.20147371,  0.1056798 ,  0.29344979,  0.11505748,\n",
      "        -1.14432048, -0.09024278, -0.41565472,  1.2772466 ,  0.16035857,\n",
      "        -0.13628794,  0.13460818,  0.17329028,  0.34035086,  0.32902091,\n",
      "         0.28538044,  0.07926499, -0.02482528,  0.58028798, -0.28266832,\n",
      "         0.18609356,  0.15811303,  0.17724216, -0.27258145,  0.10143648,\n",
      "         0.02046962, -0.11110403,  0.10336392, -0.63985881, -0.18885947,\n",
      "         0.30894362, -0.02291941, -0.09062873,  0.24653961, -0.5427956 ,\n",
      "         0.2204532 ,  0.25026247, -0.3016548 , -0.15908306, -0.08013854,\n",
      "        -0.00297411,  0.52558256,  0.02977891, -0.36672475, -0.07758066,\n",
      "         0.00364623,  0.11367216, -0.29960668,  0.65691024,  0.11420684])\n",
      " ...\n",
      " array([-2.14490676e-02,  8.37479909e-03,  1.11621828e-01,  4.87580378e-02,\n",
      "        -8.69895830e-02, -4.57682084e-02, -2.34219047e-01,  6.93812771e-02,\n",
      "        -8.91908100e-03, -2.68030280e-02,  1.13634039e-01,  3.78977689e-02,\n",
      "        -6.80397000e-02, -1.35612445e-01, -2.01895748e-02,  2.27360373e-04,\n",
      "        -5.86299097e-02,  1.34628352e-01, -1.34956290e-01,  3.16085657e-01,\n",
      "        -8.54740956e-02, -3.11874382e-01, -8.53779749e-03,  2.32524661e-01,\n",
      "        -1.50148620e-01, -2.65391172e-01, -6.24489003e-02, -6.20169890e-02,\n",
      "        -1.08023962e-01, -2.50934194e-01,  4.72918147e-02,  2.27140440e-01,\n",
      "        -2.39572589e-01, -1.37922247e-01, -1.40945448e-02,  1.58794708e-01,\n",
      "         1.43648930e-01, -1.81986107e-01, -5.25149377e-02, -1.55167876e-01,\n",
      "         7.01722429e-02, -1.53396853e-01, -7.07957616e-03, -1.75509358e-01,\n",
      "        -2.09606236e-01, -6.76666717e-02, -9.83522648e-02, -2.73799757e-01,\n",
      "        -1.07093041e-01, -6.38110635e-01,  1.32712297e-01,  1.35810619e-01,\n",
      "        -2.43582075e-02,  5.20390657e-01, -8.74183156e-02, -7.65603465e-01,\n",
      "         1.00975136e-01, -2.58024814e-01,  9.90932844e-01,  4.17417364e-02,\n",
      "        -7.08703089e-02,  9.81471968e-02, -1.30929897e-01,  8.29505829e-03,\n",
      "         4.68466887e-01, -2.31522120e-02, -9.79285505e-02,  1.22593060e-01,\n",
      "         4.35879507e-01, -6.53008165e-02, -5.78947411e-02, -1.33128502e-01,\n",
      "        -8.35249332e-02, -2.35881993e-01,  1.66417047e-01,  1.55209117e-02,\n",
      "        -2.31948520e-01, -1.81681296e-01, -4.52780903e-01, -4.45853937e-02,\n",
      "         3.24748117e-01, -1.16341260e-01, -2.47092728e-01, -8.82159429e-02,\n",
      "        -8.03721887e-01, -1.19342517e-01,  1.22961179e-01, -2.10727663e-01,\n",
      "        -2.53867832e-02, -1.67247903e-01, -2.59790220e-01, -4.56617259e-03,\n",
      "        -3.94222450e-02, -1.91084682e-01, -1.41909156e-02, -8.99872649e-02,\n",
      "         1.16056779e-01, -2.05706438e-01,  3.37329771e-01, -2.19480875e-01])\n",
      " array([-4.71072310e-02,  1.20894684e-01, -6.89077413e-02,  3.29496986e-02,\n",
      "        -1.93936309e-01,  1.06720713e-01, -1.81096539e-01,  1.90749177e-01,\n",
      "         2.33243485e-01,  1.90878220e-01, -9.24359899e-02, -8.16195278e-03,\n",
      "         2.78222587e-01,  2.26935209e-01,  2.24086377e-01, -4.95538909e-01,\n",
      "         3.18722118e-01,  2.38847271e-01, -9.24055179e-02,  2.46200430e-01,\n",
      "        -3.60155612e-01, -3.18189221e-01,  1.13853321e-01,  2.45104977e-01,\n",
      "        -3.45235427e-01, -5.99412065e-01,  3.05717798e-01, -8.89676672e-02,\n",
      "        -2.02890976e-01,  6.75258354e-02,  7.07104203e-02,  9.80374904e-02,\n",
      "         1.10552282e-01, -9.07174354e-02, -3.88351634e-02, -5.49951422e-02,\n",
      "        -3.03869155e-01, -8.09586964e-02, -1.99023997e-01,  2.18876352e-02,\n",
      "        -2.16099617e-01, -6.14292600e-03, -6.24237420e-02, -2.51202944e-01,\n",
      "         8.86587364e-02,  6.69552004e-02, -3.55197713e-02,  1.01802173e-01,\n",
      "        -1.99076055e-01, -2.24291879e-01,  2.32388724e-01,  2.40046807e-01,\n",
      "        -8.91074068e-02,  2.84739477e-01,  2.56930109e-01, -6.05875500e-01,\n",
      "         4.04450016e-01, -4.97121200e-01,  8.21006797e-01,  5.06406875e-02,\n",
      "        -3.52160423e-01,  1.53902159e-01,  1.55673273e-01,  1.75617103e-01,\n",
      "         8.89074703e-01, -9.19150937e-02, -4.71078178e-04, -1.38323894e-01,\n",
      "         4.98644177e-01,  5.66014807e-02, -4.08740961e-01, -1.25227655e-01,\n",
      "         3.36110090e-01, -2.74181543e-01, -2.44529779e-02, -7.16773730e-02,\n",
      "        -2.09652823e-01, -1.77381573e-01, -3.97541312e-01, -7.34966999e-01,\n",
      "        -2.57449190e-01,  1.40441273e-01, -1.24447786e-01, -2.78797144e-01,\n",
      "        -6.41293042e-01, -1.29330390e-01,  1.89394093e-01, -5.49517531e-02,\n",
      "        -8.94138313e-02,  2.66323155e-02, -4.04024732e-01,  4.76352945e-01,\n",
      "         2.58794914e-02,  2.31750078e-01, -3.08354757e-01,  2.33821019e-01,\n",
      "         1.35079408e-01, -3.34008542e-01,  3.89242878e-01,  5.59932591e-02])\n",
      " array([-0.31862209, -0.14865853,  0.34614207, -0.10924908, -0.24370252,\n",
      "        -0.05510717,  0.06928277,  0.54225697,  0.06782171,  0.22254724,\n",
      "         0.38234073,  0.04494653,  0.41257211, -0.41510274, -0.1134322 ,\n",
      "         0.14714744,  0.24946289,  0.36409388, -0.0490367 , -0.18192864,\n",
      "        -0.39285419, -0.28838297,  0.06622371,  0.1395996 , -0.00735732,\n",
      "        -0.39403189, -0.03959544, -0.11002825, -0.198413  , -0.40260117,\n",
      "        -0.34035493,  0.24879891,  0.1267032 , -0.07392245,  0.27486061,\n",
      "         0.14886027, -0.23368729, -0.09354947, -0.32188373, -0.22224228,\n",
      "         0.17594649, -0.2912457 ,  0.26397081, -0.08968418, -0.3801814 ,\n",
      "        -0.39913869, -0.2491998 , -0.31643725,  0.05035201, -0.66497901,\n",
      "         0.29513685, -0.12536754,  0.26859245,  0.59470052,  0.0625214 ,\n",
      "        -1.45797137,  0.05861893, -0.04689513,  1.40884339,  0.44132685,\n",
      "        -0.43988546,  0.28580584, -0.05639287, -0.28807072,  0.46072491,\n",
      "        -0.16383422, -0.17721435,  0.284781  ,  0.07325689, -0.2056164 ,\n",
      "        -0.27165759, -0.40070956,  0.04604372, -0.01092658,  0.16126157,\n",
      "         0.39275543,  0.07198188, -0.39777693, -0.56704517, -0.26989747,\n",
      "         0.38834304, -0.44591021, -0.14111088, -0.15140065, -0.96571376,\n",
      "        -0.02918448, -0.04688833, -0.36666025, -0.01502827,  0.21420933,\n",
      "        -0.42510269,  0.39685124,  0.09729137,  0.23574077,  0.0387551 ,\n",
      "        -0.10401598,  0.41024037,  0.09437353,  0.69765768,  0.13091388])]\n"
     ]
    }
   ],
   "source": [
    "print(np.array(X))"
   ]
  },
  {
   "cell_type": "code",
   "execution_count": 28,
   "id": "1a9df6a1",
   "metadata": {},
   "outputs": [],
   "source": [
    "import ast\n"
   ]
  },
  {
   "cell_type": "code",
   "execution_count": 42,
   "id": "b1112eed",
   "metadata": {},
   "outputs": [],
   "source": [
    "train['vectors'] = train['vectors'].apply(lambda x: np.fromstring(x.strip('[]').replace('\\n', ' '), sep=' '))\n",
    "#train['vectors'] = train['vectors'].apply(lambda x: np.array(ast.literal_eval(x)))"
   ]
  },
  {
   "cell_type": "code",
   "execution_count": 43,
   "id": "162142da",
   "metadata": {},
   "outputs": [],
   "source": [
    "train['vectors'] = np.vstack(train['vectors'].values)"
   ]
  },
  {
   "cell_type": "code",
   "execution_count": 44,
   "id": "124ee9d2",
   "metadata": {},
   "outputs": [
    {
     "data": {
      "text/plain": [
       "-0.242688832"
      ]
     },
     "execution_count": 44,
     "metadata": {},
     "output_type": "execute_result"
    }
   ],
   "source": [
    "train['vectors'][0]"
   ]
  }
 ],
 "metadata": {
  "kernelspec": {
   "display_name": ".venv",
   "language": "python",
   "name": "python3"
  },
  "language_info": {
   "codemirror_mode": {
    "name": "ipython",
    "version": 3
   },
   "file_extension": ".py",
   "mimetype": "text/x-python",
   "name": "python",
   "nbconvert_exporter": "python",
   "pygments_lexer": "ipython3",
   "version": "3.12.10"
  }
 },
 "nbformat": 4,
 "nbformat_minor": 5
}
